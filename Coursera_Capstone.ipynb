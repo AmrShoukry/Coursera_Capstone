{
  "nbformat": 4,
  "nbformat_minor": 0,
  "metadata": {
    "colab": {
      "name": "Coursera_Capstone.ipynb",
      "provenance": []
    },
    "kernelspec": {
      "name": "python3",
      "display_name": "Python 3"
    }
  },
  "cells": [
    {
      "cell_type": "markdown",
      "metadata": {
        "id": "h5NJA9Ti8vNL",
        "colab_type": "text"
      },
      "source": [
        "1. Write some markdown to explain that this notebook will be mainly used for the capstone project.<br>\n",
        "2. Import the pandas library as pd.<br>\n",
        "3. Import the Numpy library as np.<br>\n",
        "4. Print the following the statement: Hello Capstone Project Course!"
      ]
    },
    {
      "cell_type": "markdown",
      "metadata": {
        "id": "qbWvZU4e9TSx",
        "colab_type": "text"
      },
      "source": [
        "**Coursera_Capstone**\n",
        "\n",
        "\n"
      ]
    },
    {
      "cell_type": "code",
      "metadata": {
        "id": "7YCDznY89I7M",
        "colab_type": "code",
        "colab": {
          "base_uri": "https://localhost:8080/",
          "height": 34
        },
        "outputId": "5760b902-69b9-4155-b634-66b4aeed0f8e"
      },
      "source": [
        "import pandas as pd\n",
        "import numpy as np\n",
        "print(\"Hello Capstone Project Course!\")"
      ],
      "execution_count": 1,
      "outputs": [
        {
          "output_type": "stream",
          "text": [
            "Hello Capstone Project Course!\n"
          ],
          "name": "stdout"
        }
      ]
    }
  ]
}